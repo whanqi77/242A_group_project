{
 "cells": [
  {
   "cell_type": "code",
   "execution_count": 19,
   "metadata": {},
   "outputs": [],
   "source": [
    "import pandas as pd\n",
    "import matplotlib.pyplot as plt\n",
    "import numpy as np\n",
    "from sklearn.ensemble import RandomForestRegressor\n",
    "from sklearn.metrics import mean_squared_error, r2_score"
   ]
  },
  {
   "cell_type": "code",
   "execution_count": 20,
   "metadata": {},
   "outputs": [
    {
     "name": "stdout",
     "output_type": "stream",
     "text": [
      "   logreturn        f1        f2        f3        f4        f5        f6  \\\n",
      "0   0.014110  4.798603  4.291953  0.096115 -0.915052  1.665008  0.334631   \n",
      "1   0.004389  4.777986  4.650318  0.538249 -0.841286  1.652642  0.600573   \n",
      "2  -0.009372  4.764654  4.265499  0.066010 -1.018443  1.649977  0.753251   \n",
      "3   0.005736  4.723674  4.242907  0.049920 -1.107658  1.669910  0.458335   \n",
      "4   0.011969  4.720298  4.265986  0.088056 -0.870258  1.729706  0.997562   \n",
      "\n",
      "         f7  \n",
      "0 -0.286816  \n",
      "1  0.067374  \n",
      "2 -0.054899  \n",
      "3 -0.511413  \n",
      "4  0.209364  \n"
     ]
    },
    {
     "data": {
      "text/plain": [
       "0    0.014110\n",
       "1    0.004389\n",
       "2   -0.009372\n",
       "3    0.005736\n",
       "4    0.011969\n",
       "Name: logreturn, dtype: float64"
      ]
     },
     "execution_count": 20,
     "metadata": {},
     "output_type": "execute_result"
    }
   ],
   "source": [
    "file_path = '/Users/boyuanlai/Desktop/UCB 2024-2025/242A/PROJECT/pcanewss.csv' \n",
    "data = pd.read_csv(file_path)\n",
    "print(data.head())\n",
    "\n",
    "X = data[['f1', 'f2', 'f3', 'f4', 'f5', 'f6', 'f7']]\n",
    "y = data['logreturn']\n",
    "y.head()"
   ]
  },
  {
   "cell_type": "code",
   "execution_count": 21,
   "metadata": {},
   "outputs": [],
   "source": [
    "train_size = int(len(X) * 0.8)\n",
    "X_train, X_test = X[:train_size], X[train_size:]\n",
    "y_train, y_test = y[:train_size], y[train_size:]"
   ]
  },
  {
   "cell_type": "code",
   "execution_count": 22,
   "metadata": {},
   "outputs": [],
   "source": [
    "rf_model = RandomForestRegressor(random_state=42, n_estimators=100)\n",
    "rf_model.fit(X_train, y_train)\n",
    "y_pred = rf_model.predict(X_test)\n",
    "\n",
    "\n",
    "mse = mean_squared_error(y_test, y_pred)"
   ]
  },
  {
   "cell_type": "code",
   "execution_count": 23,
   "metadata": {},
   "outputs": [],
   "source": [
    "def OSR2(model, y_train, y_test, y_pred):\n",
    "    SSE = np.sum((y_test - y_pred)**2)\n",
    "    SST = np.sum((y_test - np.mean(y_train))**2)\n",
    "    OSR2_value = 1 - SSE/SST\n",
    "    print(f'Out-of-Sample R-squared: {OSR2_value}')"
   ]
  },
  {
   "cell_type": "code",
   "execution_count": 24,
   "metadata": {},
   "outputs": [
    {
     "name": "stdout",
     "output_type": "stream",
     "text": [
      "Out-of-Sample R-squared: -0.07815851424548304\n",
      "MSE: 6.640724255198646e-05\n",
      "correlation: 0.08448628012030569\n"
     ]
    }
   ],
   "source": [
    "OSR2(rf_model, y_train, y_test, y_pred)\n",
    "mse = mean_squared_error(y_test, y_pred)\n",
    "print(f'MSE: {mse}')\n",
    "from scipy.stats import pearsonr\n",
    "correlation, _ = pearsonr(y_test, y_pred)\n",
    "print(f'correlation: {correlation}')"
   ]
  }
 ],
 "metadata": {
  "kernelspec": {
   "display_name": "Python 3",
   "language": "python",
   "name": "python3"
  },
  "language_info": {
   "codemirror_mode": {
    "name": "ipython",
    "version": 3
   },
   "file_extension": ".py",
   "mimetype": "text/x-python",
   "name": "python",
   "nbconvert_exporter": "python",
   "pygments_lexer": "ipython3",
   "version": "3.9.6"
  }
 },
 "nbformat": 4,
 "nbformat_minor": 2
}
